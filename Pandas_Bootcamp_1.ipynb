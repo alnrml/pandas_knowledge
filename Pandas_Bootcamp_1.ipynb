{
  "nbformat": 4,
  "nbformat_minor": 0,
  "metadata": {
    "colab": {
      "provenance": []
    },
    "kernelspec": {
      "name": "python3",
      "display_name": "Python 3"
    },
    "language_info": {
      "name": "python"
    }
  },
  "cells": [
    {
      "cell_type": "markdown",
      "source": [
        "# SERIES"
      ],
      "metadata": {
        "id": "40oMJiBvAt-o"
      }
    },
    {
      "cell_type": "markdown",
      "source": [
        "\n",
        "\n",
        "- A sequence of values with associated labels."
      ],
      "metadata": {
        "id": "aE0a-iqT5gUE"
      }
    },
    {
      "cell_type": "code",
      "source": [
        "students = ['Mark', 'Hanna', 'Luke'] #Simple list saved on a variable"
      ],
      "metadata": {
        "id": "8_6rXQhV59c1"
      },
      "execution_count": null,
      "outputs": []
    },
    {
      "cell_type": "code",
      "source": [
        "type(students) #With type we are able to know what is in our variable"
      ],
      "metadata": {
        "colab": {
          "base_uri": "https://localhost:8080/"
        },
        "id": "gExt8wVR6RKs",
        "outputId": "59f4a204-7629-4201-91af-92429ed1c55d"
      },
      "execution_count": null,
      "outputs": [
        {
          "output_type": "execute_result",
          "data": {
            "text/plain": [
              "list"
            ]
          },
          "metadata": {},
          "execution_count": 2
        }
      ]
    },
    {
      "cell_type": "code",
      "source": [
        "import pandas as pd #How we import the pandas library into our notebook\n",
        "pd.Series(students) #With pd.Series() we are able to transform our varible into a serie, meaning, our sequence of values has a label with it, in this case the index number."
      ],
      "metadata": {
        "colab": {
          "base_uri": "https://localhost:8080/"
        },
        "id": "om3fu_jl6iSE",
        "outputId": "1484ef03-92b5-4f51-c5ba-e8fc0385b158"
      },
      "execution_count": null,
      "outputs": [
        {
          "output_type": "execute_result",
          "data": {
            "text/plain": [
              "0     Mark\n",
              "1    Hanna\n",
              "2     Luke\n",
              "dtype: object"
            ]
          },
          "metadata": {},
          "execution_count": 3
        }
      ]
    },
    {
      "cell_type": "markdown",
      "source": [
        "# PARAMETERS VS. ARGUMENTS"
      ],
      "metadata": {
        "id": "I6lHJVnnAgxZ"
      }
    },
    {
      "cell_type": "markdown",
      "source": [
        "**LECTURE 2 - Parameters Vs. Arguments**\n",
        "\n",
        "- Parameters are variables in a method definition. Arguments are the values we associate with those parameters."
      ],
      "metadata": {
        "id": "QqzeD3jW7r0T"
      }
    },
    {
      "cell_type": "code",
      "source": [
        "pd.Series(students) #students in this case is the parameter. The values, such as Mark and Hanna, are the arguments."
      ],
      "metadata": {
        "colab": {
          "base_uri": "https://localhost:8080/"
        },
        "id": "hh7E-PLT708k",
        "outputId": "5462bdd5-fb8f-431c-a045-4dd2003ae241"
      },
      "execution_count": null,
      "outputs": [
        {
          "output_type": "execute_result",
          "data": {
            "text/plain": [
              "0     Mark\n",
              "1    Hanna\n",
              "2     Luke\n",
              "dtype: object"
            ]
          },
          "metadata": {},
          "execution_count": 4
        }
      ]
    },
    {
      "cell_type": "markdown",
      "source": [
        "# WHAT'S IN THE DATA"
      ],
      "metadata": {
        "id": "xK6xbXu8BAlE"
      }
    },
    {
      "cell_type": "markdown",
      "source": [
        "**LECTURE 3 - What's in the data?**\n",
        "\n",
        "- We can use both lists or dictionaries in order to generate pandas series."
      ],
      "metadata": {
        "id": "OnLx0RJh9YM-"
      }
    },
    {
      "cell_type": "code",
      "source": [
        "my_list = ['Value 0', 'Value 1', 'Value 3']\n",
        "type(my_list)"
      ],
      "metadata": {
        "colab": {
          "base_uri": "https://localhost:8080/"
        },
        "id": "geTjFWcT-aGs",
        "outputId": "684fb88a-deb1-4751-c195-fff7b09224d4"
      },
      "execution_count": null,
      "outputs": [
        {
          "output_type": "execute_result",
          "data": {
            "text/plain": [
              "list"
            ]
          },
          "metadata": {},
          "execution_count": 4
        }
      ]
    },
    {
      "cell_type": "code",
      "source": [
        "my_dict = {0:'Value 0', 1:'Value 1', 2:'Value 2'}\n",
        "type(my_dict)"
      ],
      "metadata": {
        "colab": {
          "base_uri": "https://localhost:8080/"
        },
        "id": "locYulHX-ntF",
        "outputId": "9b617153-d4a6-4168-9291-8e1520f09d4d"
      },
      "execution_count": null,
      "outputs": [
        {
          "output_type": "execute_result",
          "data": {
            "text/plain": [
              "dict"
            ]
          },
          "metadata": {},
          "execution_count": 5
        }
      ]
    },
    {
      "cell_type": "code",
      "source": [
        "pd.Series(my_list)"
      ],
      "metadata": {
        "colab": {
          "base_uri": "https://localhost:8080/"
        },
        "id": "ZrYBETUh-6wL",
        "outputId": "13ac0b22-a004-40d0-986a-e0e81b09f987"
      },
      "execution_count": null,
      "outputs": [
        {
          "output_type": "execute_result",
          "data": {
            "text/plain": [
              "0    Value 0\n",
              "1    Value 1\n",
              "2    Value 3\n",
              "dtype: object"
            ]
          },
          "metadata": {},
          "execution_count": 6
        }
      ]
    },
    {
      "cell_type": "code",
      "source": [
        "pd.Series(my_dict)"
      ],
      "metadata": {
        "colab": {
          "base_uri": "https://localhost:8080/"
        },
        "id": "f032nNRt-_Bi",
        "outputId": "cffce356-6fe0-4ba8-b455-aa1203f343ac"
      },
      "execution_count": null,
      "outputs": [
        {
          "output_type": "execute_result",
          "data": {
            "text/plain": [
              "0    Value 0\n",
              "1    Value 1\n",
              "2    Value 2\n",
              "dtype: object"
            ]
          },
          "metadata": {},
          "execution_count": 7
        }
      ]
    },
    {
      "cell_type": "markdown",
      "source": [
        "# D.TYPE ATTRIBUTE"
      ],
      "metadata": {
        "id": "3TUswlzXAzq3"
      }
    },
    {
      "cell_type": "markdown",
      "source": [
        "**LECTURE 4 - d.type Attribute**\n",
        "\n",
        "We are able to define what kind of data type we want to apply to our series as in the example below."
      ],
      "metadata": {
        "id": "ZGcStmrg_HFu"
      }
    },
    {
      "cell_type": "code",
      "source": [
        "ages = [20, 30, 50]\n",
        "pd.Series(ages, dtype='float')  #In this case it was set the list of ages to be float for instance. \n",
        "                                #By default any series we create and don't specify data types will be set as object.\n",
        "                                #By default any series we create with different data types will be set as an object."
      ],
      "metadata": {
        "colab": {
          "base_uri": "https://localhost:8080/"
        },
        "id": "EdRQ326A_Um7",
        "outputId": "0a071d00-7aa7-41e7-dce2-5cbf60e842aa"
      },
      "execution_count": null,
      "outputs": [
        {
          "output_type": "execute_result",
          "data": {
            "text/plain": [
              "0    20.0\n",
              "1    30.0\n",
              "2    50.0\n",
              "dtype: float64"
            ]
          },
          "metadata": {},
          "execution_count": 8
        }
      ]
    },
    {
      "cell_type": "markdown",
      "source": [
        "# INDEX"
      ],
      "metadata": {
        "id": "W221bccYDfA9"
      }
    },
    {
      "cell_type": "markdown",
      "source": [
        "**LECTURE 5 - INDEX**\n",
        "\n",
        "It starts at zero if we don't specify our own index. However we can set different indexes. We can also customize our index.\n",
        "\n",
        "We can set variables and create indexes in it through the pd.RangeIndex() where we set where it starts and where it ends."
      ],
      "metadata": {
        "id": "VTw92NAiDh8C"
      }
    },
    {
      "cell_type": "code",
      "source": [
        "created_index = pd.RangeIndex(start=70, stop=74)"
      ],
      "metadata": {
        "id": "6j3BLNc7FSDS"
      },
      "execution_count": null,
      "outputs": []
    },
    {
      "cell_type": "code",
      "source": [
        "books = ['Anne Frank', 'Cookbook', 'Geografy Book', 'Math Book']"
      ],
      "metadata": {
        "id": "tYgBcajvGC8K"
      },
      "execution_count": null,
      "outputs": []
    },
    {
      "cell_type": "code",
      "source": [
        "books_with_index = pd.Series(books, created_index, dtype='string')\n",
        "books_with_index"
      ],
      "metadata": {
        "colab": {
          "base_uri": "https://localhost:8080/"
        },
        "id": "vbaG9ZTaFnGg",
        "outputId": "b4e68c60-bb1a-43e1-8036-3275deda5acf"
      },
      "execution_count": null,
      "outputs": [
        {
          "output_type": "execute_result",
          "data": {
            "text/plain": [
              "70       Anne Frank\n",
              "71         Cookbook\n",
              "72    Geografy Book\n",
              "73        Math Book\n",
              "dtype: string"
            ]
          },
          "metadata": {},
          "execution_count": 11
        }
      ]
    },
    {
      "cell_type": "markdown",
      "source": [
        "# SERIES' NAMES"
      ],
      "metadata": {
        "id": "z3rFMu3UI9xZ"
      }
    },
    {
      "cell_type": "markdown",
      "source": [
        "We can use .name = '' in order to name a series. This name is going to show up next to the series dtype.\n",
        "\n",
        "When we work with dataframes this name will be set in one of the columns.\n",
        "\n",
        "We can also name the index through variable_name.index.name = ''"
      ],
      "metadata": {
        "id": "ll7aUwA9JBVI"
      }
    },
    {
      "cell_type": "code",
      "source": [
        "cities = ['São Vicente', 'Santos', 'Guarujá']\n",
        "cities_index = pd.RangeIndex(start=100, stop=103)\n",
        "seaside_cities = pd.Series(cities, cities_index, dtype='string')\n",
        "seaside_cities.name = 'Seaside Cities in Brazil'\n",
        "seaside_cities.index.name = 'Cities'\n",
        "seaside_cities"
      ],
      "metadata": {
        "colab": {
          "base_uri": "https://localhost:8080/"
        },
        "id": "9uiLCuQDJRWB",
        "outputId": "f602b0d5-4010-4c90-bc06-f242f319345a"
      },
      "execution_count": null,
      "outputs": [
        {
          "output_type": "execute_result",
          "data": {
            "text/plain": [
              "Cities\n",
              "100    São Vicente\n",
              "101         Santos\n",
              "102        Guarujá\n",
              "Name: Seaside Cities in Brazil, dtype: string"
            ]
          },
          "metadata": {},
          "execution_count": 12
        }
      ]
    },
    {
      "cell_type": "markdown",
      "source": [
        "# SKILL CHALLENGE"
      ],
      "metadata": {
        "id": "GZbg9jvrLlaa"
      }
    },
    {
      "cell_type": "markdown",
      "source": [
        "1. Create Python list of length 4 that contains actors names. List of strings. Assign it to a variable named actor_names.\n",
        "\n",
        "2. Create a list of lenght 4 that contains actors ages. Call this list actor_ages.\n",
        "\n",
        "3. Create a series that stores actor name in the index and actor age as values. Name it actors.\n",
        "\n",
        "4. Repeat step 3, create the series from a Python dictionary. As an additional challenge, try not to type the dictionary manually, but instead dynamically create it using two lists defined in Steps 1 and 2."
      ],
      "metadata": {
        "id": "gQJLqfLRLooe"
      }
    },
    {
      "cell_type": "code",
      "source": [
        "#1\n",
        "\n",
        "actor_names = ['George Clooney', 'George Lucas', 'Robert De Niro', 'Chris Rock']"
      ],
      "metadata": {
        "id": "jzPPa89FMuZ6"
      },
      "execution_count": null,
      "outputs": []
    },
    {
      "cell_type": "code",
      "source": [
        "#2\n",
        "\n",
        "actor_ages = [61, 78, 79, 57]"
      ],
      "metadata": {
        "id": "QX6jFgdON23C"
      },
      "execution_count": null,
      "outputs": []
    },
    {
      "cell_type": "code",
      "source": [
        "#3\n",
        "\n",
        "actors = pd.Series(actor_ages, actor_names)\n",
        "actors.name = 'Skill Challenge 1'\n",
        "actors.index.name = 'Actor Names and Ages'\n",
        "actors"
      ],
      "metadata": {
        "colab": {
          "base_uri": "https://localhost:8080/"
        },
        "id": "AMo4IAk7OBTY",
        "outputId": "4787ac24-ab19-4b1d-e8d7-1932f284ea2f"
      },
      "execution_count": null,
      "outputs": [
        {
          "output_type": "execute_result",
          "data": {
            "text/plain": [
              "Actor Names and Ages\n",
              "George Clooney    61\n",
              "George Lucas      78\n",
              "Robert De Niro    79\n",
              "Chris Rock        57\n",
              "Name: Skill Challenge 1, dtype: int64"
            ]
          },
          "metadata": {},
          "execution_count": 15
        }
      ]
    },
    {
      "cell_type": "code",
      "source": [
        "#4\n",
        "actors_dict = zip(actor_names, actor_ages)\n",
        "actors_ = pd.Series(actors_dict, name='Skill Challenge 1')\n",
        "actors_"
      ],
      "metadata": {
        "colab": {
          "base_uri": "https://localhost:8080/"
        },
        "id": "QMYt9lfVOnZX",
        "outputId": "2dc61ee8-7beb-4b32-f772-97b96a08a824"
      },
      "execution_count": null,
      "outputs": [
        {
          "output_type": "execute_result",
          "data": {
            "text/plain": [
              "0    (George Clooney, 61)\n",
              "1      (George Lucas, 78)\n",
              "2    (Robert De Niro, 79)\n",
              "3        (Chris Rock, 57)\n",
              "Name: Skill Challenge 1, dtype: object"
            ]
          },
          "metadata": {},
          "execution_count": 16
        }
      ]
    },
    {
      "cell_type": "markdown",
      "source": [
        "# HEAD() AND TAIL() METHODS"
      ],
      "metadata": {
        "id": "SFQzgoINRhRs"
      }
    },
    {
      "cell_type": "code",
      "source": [
        "actors_.head(2)"
      ],
      "metadata": {
        "colab": {
          "base_uri": "https://localhost:8080/"
        },
        "id": "tw66LdsHdL6O",
        "outputId": "13eb3b87-1d3f-4775-ef14-9c799ec550f8"
      },
      "execution_count": null,
      "outputs": [
        {
          "output_type": "execute_result",
          "data": {
            "text/plain": [
              "0    (George Clooney, 61)\n",
              "1      (George Lucas, 78)\n",
              "Name: Skill Challenge 1, dtype: object"
            ]
          },
          "metadata": {},
          "execution_count": 88
        }
      ]
    },
    {
      "cell_type": "code",
      "source": [
        "actors_.tail(2)"
      ],
      "metadata": {
        "colab": {
          "base_uri": "https://localhost:8080/"
        },
        "id": "uaNPlGCZdQeA",
        "outputId": "c79e7fb5-dea8-4f1b-fcef-b20e58fcbc2c"
      },
      "execution_count": null,
      "outputs": [
        {
          "output_type": "execute_result",
          "data": {
            "text/plain": [
              "2    (Robert De Niro, 79)\n",
              "3        (Chris Rock, 57)\n",
              "Name: Skill Challenge 1, dtype: object"
            ]
          },
          "metadata": {},
          "execution_count": 89
        }
      ]
    },
    {
      "cell_type": "markdown",
      "source": [
        "# EXTRACTING BY INDEX POSITION"
      ],
      "metadata": {
        "id": "q1Deax27l8T6"
      }
    },
    {
      "cell_type": "markdown",
      "source": [
        "- In order to extract info by index position this is what is done:\n",
        "\n",
        "  variable_name[index position]\n"
      ],
      "metadata": {
        "id": "S3cHt9X8nCFI"
      }
    },
    {
      "cell_type": "code",
      "source": [
        "from string import ascii_lowercase\n",
        "letters = list(ascii_lowercase)\n",
        "alphabet = pd.Series(letters)\n",
        "alphabet"
      ],
      "metadata": {
        "id": "TagMMeBRmBeV",
        "colab": {
          "base_uri": "https://localhost:8080/"
        },
        "outputId": "1eefdedd-43ad-49a3-a80e-989dc119617f"
      },
      "execution_count": null,
      "outputs": [
        {
          "output_type": "execute_result",
          "data": {
            "text/plain": [
              "0     a\n",
              "1     b\n",
              "2     c\n",
              "3     d\n",
              "4     e\n",
              "5     f\n",
              "6     g\n",
              "7     h\n",
              "8     i\n",
              "9     j\n",
              "10    k\n",
              "11    l\n",
              "12    m\n",
              "13    n\n",
              "14    o\n",
              "15    p\n",
              "16    q\n",
              "17    r\n",
              "18    s\n",
              "19    t\n",
              "20    u\n",
              "21    v\n",
              "22    w\n",
              "23    x\n",
              "24    y\n",
              "25    z\n",
              "dtype: object"
            ]
          },
          "metadata": {},
          "execution_count": 17
        }
      ]
    },
    {
      "cell_type": "markdown",
      "source": [
        "1. What is the 1st letter?\n",
        "2. What is the 11th letter?\n",
        "3. What are the first 3 letters?\n",
        "4. What are the sixth through tenth letters?\n",
        "5. What are the last six letters?"
      ],
      "metadata": {
        "id": "E8okENeanqB-"
      }
    },
    {
      "cell_type": "code",
      "source": [
        "#1\n",
        "\n",
        "alphabet[0]"
      ],
      "metadata": {
        "colab": {
          "base_uri": "https://localhost:8080/"
        },
        "id": "2jO8srazm_qc",
        "outputId": "97774633-4a20-48eb-ea74-a2aeeae1e386"
      },
      "execution_count": null,
      "outputs": [
        {
          "output_type": "execute_result",
          "data": {
            "text/plain": [
              "'a'"
            ],
            "application/vnd.google.colaboratory.intrinsic+json": {
              "type": "string"
            }
          },
          "metadata": {},
          "execution_count": 91
        }
      ]
    },
    {
      "cell_type": "code",
      "source": [
        "#2\n",
        "\n",
        "alphabet[10]"
      ],
      "metadata": {
        "colab": {
          "base_uri": "https://localhost:8080/"
        },
        "id": "5KwoTnNen_G0",
        "outputId": "496744d1-4ba7-4a4a-9d46-0b12a8af32d6"
      },
      "execution_count": null,
      "outputs": [
        {
          "output_type": "execute_result",
          "data": {
            "text/plain": [
              "'k'"
            ],
            "application/vnd.google.colaboratory.intrinsic+json": {
              "type": "string"
            }
          },
          "metadata": {},
          "execution_count": 92
        }
      ]
    },
    {
      "cell_type": "code",
      "source": [
        "#3\n",
        "\n",
        "alphabet[0:3]"
      ],
      "metadata": {
        "colab": {
          "base_uri": "https://localhost:8080/"
        },
        "id": "k9zw7VOsoCvL",
        "outputId": "5f6078ef-1e90-488c-9fff-97043c712892"
      },
      "execution_count": null,
      "outputs": [
        {
          "output_type": "execute_result",
          "data": {
            "text/plain": [
              "0    a\n",
              "1    b\n",
              "2    c\n",
              "dtype: object"
            ]
          },
          "metadata": {},
          "execution_count": 93
        }
      ]
    },
    {
      "cell_type": "code",
      "source": [
        "#4\n",
        "\n",
        "alphabet[6:10]"
      ],
      "metadata": {
        "colab": {
          "base_uri": "https://localhost:8080/"
        },
        "id": "2aSJ7fnsoIi3",
        "outputId": "54e5f3c8-470e-4ed5-b7a3-8799918e7567"
      },
      "execution_count": null,
      "outputs": [
        {
          "output_type": "execute_result",
          "data": {
            "text/plain": [
              "6    g\n",
              "7    h\n",
              "8    i\n",
              "9    j\n",
              "dtype: object"
            ]
          },
          "metadata": {},
          "execution_count": 94
        }
      ]
    },
    {
      "cell_type": "code",
      "source": [
        "#5\n",
        "\n",
        "alphabet[-6:]"
      ],
      "metadata": {
        "colab": {
          "base_uri": "https://localhost:8080/"
        },
        "id": "wGwjiVYYobq1",
        "outputId": "458ac491-243a-4324-beee-7aefcdd183dc"
      },
      "execution_count": null,
      "outputs": [
        {
          "output_type": "execute_result",
          "data": {
            "text/plain": [
              "20    u\n",
              "21    v\n",
              "22    w\n",
              "23    x\n",
              "24    y\n",
              "25    z\n",
              "dtype: object"
            ]
          },
          "metadata": {},
          "execution_count": 95
        }
      ]
    },
    {
      "cell_type": "markdown",
      "source": [
        "# ACCESSING ELEMENTS BY LABEL"
      ],
      "metadata": {
        "id": "2QbnYbD9o8IN"
      }
    },
    {
      "cell_type": "markdown",
      "source": [
        "- In order to extract info by label this is what is done:\n",
        "\n",
        "  variable_name[label_name or label_number]"
      ],
      "metadata": {
        "id": "roC9cQ2nqA5j"
      }
    },
    {
      "cell_type": "code",
      "source": [
        "from string import ascii_uppercase\n",
        "letters_ = list(ascii_uppercase)\n",
        "alphabet_upper = pd.Series(letters_, map(lambda x: 'label_' + x, list(letters)))\n",
        "alphabet_upper"
      ],
      "metadata": {
        "id": "Jg_BftRMqR5z",
        "colab": {
          "base_uri": "https://localhost:8080/"
        },
        "outputId": "bee45d13-e471-4744-ac07-0824182e030f"
      },
      "execution_count": null,
      "outputs": [
        {
          "output_type": "execute_result",
          "data": {
            "text/plain": [
              "label_a    A\n",
              "label_b    B\n",
              "label_c    C\n",
              "label_d    D\n",
              "label_e    E\n",
              "label_f    F\n",
              "label_g    G\n",
              "label_h    H\n",
              "label_i    I\n",
              "label_j    J\n",
              "label_k    K\n",
              "label_l    L\n",
              "label_m    M\n",
              "label_n    N\n",
              "label_o    O\n",
              "label_p    P\n",
              "label_q    Q\n",
              "label_r    R\n",
              "label_s    S\n",
              "label_t    T\n",
              "label_u    U\n",
              "label_v    V\n",
              "label_w    W\n",
              "label_x    X\n",
              "label_y    Y\n",
              "label_z    Z\n",
              "dtype: object"
            ]
          },
          "metadata": {},
          "execution_count": 18
        }
      ]
    },
    {
      "cell_type": "markdown",
      "source": [
        "1. What is the 1st letter?\n",
        "2. What is the 11th letter?\n",
        "3. What are the first 3 letters?\n",
        "4. What are the sixth through tenth letters?\n",
        "5. What are the last six letters?"
      ],
      "metadata": {
        "id": "lgU4i_Sqs8Vr"
      }
    },
    {
      "cell_type": "code",
      "source": [
        "#1\n",
        "alphabet_upper['label_a']"
      ],
      "metadata": {
        "colab": {
          "base_uri": "https://localhost:8080/"
        },
        "id": "SK-koNRWs9vu",
        "outputId": "81527c95-9294-449f-81fa-f3f96bcbfc8f"
      },
      "execution_count": null,
      "outputs": [
        {
          "output_type": "execute_result",
          "data": {
            "text/plain": [
              "'A'"
            ],
            "application/vnd.google.colaboratory.intrinsic+json": {
              "type": "string"
            }
          },
          "metadata": {},
          "execution_count": 97
        }
      ]
    },
    {
      "cell_type": "code",
      "source": [
        "#2\n",
        "alphabet_upper['label_k']"
      ],
      "metadata": {
        "colab": {
          "base_uri": "https://localhost:8080/"
        },
        "id": "iKhCV3xJtFVf",
        "outputId": "430717d6-3460-4486-bdc3-85cb84e18be2"
      },
      "execution_count": null,
      "outputs": [
        {
          "output_type": "execute_result",
          "data": {
            "text/plain": [
              "'K'"
            ],
            "application/vnd.google.colaboratory.intrinsic+json": {
              "type": "string"
            }
          },
          "metadata": {},
          "execution_count": 98
        }
      ]
    },
    {
      "cell_type": "code",
      "source": [
        "#3\n",
        "alphabet_upper[:'label_c']"
      ],
      "metadata": {
        "colab": {
          "base_uri": "https://localhost:8080/"
        },
        "id": "tyD2NcodtPA1",
        "outputId": "b961fff9-8b14-44d6-b9c0-579b95fda587"
      },
      "execution_count": null,
      "outputs": [
        {
          "output_type": "execute_result",
          "data": {
            "text/plain": [
              "label_a    A\n",
              "label_b    B\n",
              "label_c    C\n",
              "dtype: object"
            ]
          },
          "metadata": {},
          "execution_count": 99
        }
      ]
    },
    {
      "cell_type": "code",
      "source": [
        "#4\n",
        "alphabet_upper['label_f':'label_j']"
      ],
      "metadata": {
        "colab": {
          "base_uri": "https://localhost:8080/"
        },
        "id": "UhHlhK3Htsxv",
        "outputId": "2398a9c3-8846-406d-a3fe-c56a9cb4f69b"
      },
      "execution_count": null,
      "outputs": [
        {
          "output_type": "execute_result",
          "data": {
            "text/plain": [
              "label_f    F\n",
              "label_g    G\n",
              "label_h    H\n",
              "label_i    I\n",
              "label_j    J\n",
              "dtype: object"
            ]
          },
          "metadata": {},
          "execution_count": 100
        }
      ]
    },
    {
      "cell_type": "code",
      "source": [
        "#5\n",
        "\n",
        "alphabet_upper['label_u':]"
      ],
      "metadata": {
        "colab": {
          "base_uri": "https://localhost:8080/"
        },
        "id": "dlAkiDAAt8m4",
        "outputId": "42bd7b72-c680-495a-8ea9-8988c889ae80"
      },
      "execution_count": null,
      "outputs": [
        {
          "output_type": "execute_result",
          "data": {
            "text/plain": [
              "label_u    U\n",
              "label_v    V\n",
              "label_w    W\n",
              "label_x    X\n",
              "label_y    Y\n",
              "label_z    Z\n",
              "dtype: object"
            ]
          },
          "metadata": {},
          "execution_count": 101
        }
      ]
    },
    {
      "cell_type": "markdown",
      "source": [
        "# ADD_PREFIX() AND ADD_SUFFIX() METHODS"
      ],
      "metadata": {
        "id": "XkBrZtwaMRlP"
      }
    },
    {
      "cell_type": "markdown",
      "source": [
        "- These methods are used in order to add a prefix or suffix as in the example bellow:\n",
        "\n",
        "```\n",
        "   pd_or_df.add_prefix('my_prefix')\n",
        "   pd_or_df.add_suffix('my_suffix')\n",
        "```\n",
        "\n"
      ],
      "metadata": {
        "id": "tKIOh1h7M8Bb"
      }
    },
    {
      "cell_type": "code",
      "source": [
        "alphabet.add_prefix('label_')"
      ],
      "metadata": {
        "colab": {
          "base_uri": "https://localhost:8080/"
        },
        "id": "2XI4a0HvNiMx",
        "outputId": "e86a7465-dce6-48d9-80fe-9d703a652d3b"
      },
      "execution_count": null,
      "outputs": [
        {
          "output_type": "execute_result",
          "data": {
            "text/plain": [
              "label_0     a\n",
              "label_1     b\n",
              "label_2     c\n",
              "label_3     d\n",
              "label_4     e\n",
              "label_5     f\n",
              "label_6     g\n",
              "label_7     h\n",
              "label_8     i\n",
              "label_9     j\n",
              "label_10    k\n",
              "label_11    l\n",
              "label_12    m\n",
              "label_13    n\n",
              "label_14    o\n",
              "label_15    p\n",
              "label_16    q\n",
              "label_17    r\n",
              "label_18    s\n",
              "label_19    t\n",
              "label_20    u\n",
              "label_21    v\n",
              "label_22    w\n",
              "label_23    x\n",
              "label_24    y\n",
              "label_25    z\n",
              "dtype: object"
            ]
          },
          "metadata": {},
          "execution_count": 19
        }
      ]
    },
    {
      "cell_type": "markdown",
      "source": [
        "# USING DOT NOTATION"
      ],
      "metadata": {
        "id": "IXCOF_MqSvtU"
      }
    },
    {
      "cell_type": "markdown",
      "source": [
        "DOT NOTATION allows us to find an specific piece of data through its index. It only works with indexes we set and not the ones by default.\n",
        "\n",
        "```\n",
        "my_variable.index_I_want\n",
        "```\n",
        "\n"
      ],
      "metadata": {
        "id": "KsikiVZcS2yb"
      }
    },
    {
      "cell_type": "code",
      "source": [
        "new_alphabet = pd.Series(letters, letters_)\n",
        "new_alphabet"
      ],
      "metadata": {
        "colab": {
          "base_uri": "https://localhost:8080/"
        },
        "id": "GA4UhdtzTbD4",
        "outputId": "ab9a098a-785b-4d76-b81f-56819285337d"
      },
      "execution_count": null,
      "outputs": [
        {
          "output_type": "execute_result",
          "data": {
            "text/plain": [
              "A    a\n",
              "B    b\n",
              "C    c\n",
              "D    d\n",
              "E    e\n",
              "F    f\n",
              "G    g\n",
              "H    h\n",
              "I    i\n",
              "J    j\n",
              "K    k\n",
              "L    l\n",
              "M    m\n",
              "N    n\n",
              "O    o\n",
              "P    p\n",
              "Q    q\n",
              "R    r\n",
              "S    s\n",
              "T    t\n",
              "U    u\n",
              "V    v\n",
              "W    w\n",
              "X    x\n",
              "Y    y\n",
              "Z    z\n",
              "dtype: object"
            ]
          },
          "metadata": {},
          "execution_count": 20
        }
      ]
    },
    {
      "cell_type": "code",
      "source": [
        "new_alphabet.M"
      ],
      "metadata": {
        "colab": {
          "base_uri": "https://localhost:8080/"
        },
        "id": "G4iCOIzhTvVg",
        "outputId": "812faa4d-ea2d-49b4-f33a-365b5b48a427"
      },
      "execution_count": null,
      "outputs": [
        {
          "output_type": "execute_result",
          "data": {
            "text/plain": [
              "'m'"
            ],
            "application/vnd.google.colaboratory.intrinsic+json": {
              "type": "string"
            }
          },
          "metadata": {},
          "execution_count": 104
        }
      ]
    },
    {
      "cell_type": "code",
      "source": [],
      "metadata": {
        "id": "TxQYWRIt95bG"
      },
      "execution_count": null,
      "outputs": []
    },
    {
      "cell_type": "markdown",
      "source": [
        "# .LOC INDEXER"
      ],
      "metadata": {
        "id": "sfu5KyZ499Po"
      }
    },
    {
      "cell_type": "markdown",
      "source": [
        "- It is the standard way to make label based extractions.\n",
        "- We can also extract boolean masks. They need to be the same length as the series."
      ],
      "metadata": {
        "id": "CJynfuyv-B5H"
      }
    },
    {
      "cell_type": "code",
      "source": [
        "new_alphabet.loc['A':'F']"
      ],
      "metadata": {
        "colab": {
          "base_uri": "https://localhost:8080/"
        },
        "id": "pdMLze-4-X0W",
        "outputId": "bef21392-8500-44ef-f78e-74a25eadfacd"
      },
      "execution_count": null,
      "outputs": [
        {
          "output_type": "execute_result",
          "data": {
            "text/plain": [
              "A    a\n",
              "B    b\n",
              "C    c\n",
              "D    d\n",
              "E    e\n",
              "F    f\n",
              "dtype: object"
            ]
          },
          "metadata": {},
          "execution_count": 24
        }
      ]
    },
    {
      "cell_type": "code",
      "source": [
        "new_alphabet.loc[[True for i in range(26)]]"
      ],
      "metadata": {
        "colab": {
          "base_uri": "https://localhost:8080/"
        },
        "id": "sTSSdrbD_UCW",
        "outputId": "03709968-dd6f-41dc-bb98-7d4dc6b84556"
      },
      "execution_count": null,
      "outputs": [
        {
          "output_type": "execute_result",
          "data": {
            "text/plain": [
              "A    a\n",
              "B    b\n",
              "C    c\n",
              "D    d\n",
              "E    e\n",
              "F    f\n",
              "G    g\n",
              "H    h\n",
              "I    i\n",
              "J    j\n",
              "K    k\n",
              "L    l\n",
              "M    m\n",
              "N    n\n",
              "O    o\n",
              "P    p\n",
              "Q    q\n",
              "R    r\n",
              "S    s\n",
              "T    t\n",
              "U    u\n",
              "V    v\n",
              "W    w\n",
              "X    x\n",
              "Y    y\n",
              "Z    z\n",
              "dtype: object"
            ]
          },
          "metadata": {},
          "execution_count": 26
        }
      ]
    },
    {
      "cell_type": "markdown",
      "source": [
        "# .ILOC - EXTRACTING BY POSITION"
      ],
      "metadata": {
        "id": "KNxdZU0mABe_"
      }
    },
    {
      "cell_type": "markdown",
      "source": [
        "- While loc indexes by label, iloc however indexes by position"
      ],
      "metadata": {
        "id": "XmzfbNjlAKI_"
      }
    },
    {
      "cell_type": "code",
      "source": [
        "new_alphabet.iloc[0:20]"
      ],
      "metadata": {
        "colab": {
          "base_uri": "https://localhost:8080/"
        },
        "id": "wiLAfcCXAgx_",
        "outputId": "61d89f12-ce22-4ed8-adad-986dcf9cbdbd"
      },
      "execution_count": null,
      "outputs": [
        {
          "output_type": "execute_result",
          "data": {
            "text/plain": [
              "A    a\n",
              "B    b\n",
              "C    c\n",
              "D    d\n",
              "E    e\n",
              "F    f\n",
              "G    g\n",
              "H    h\n",
              "I    i\n",
              "J    j\n",
              "K    k\n",
              "L    l\n",
              "M    m\n",
              "N    n\n",
              "O    o\n",
              "P    p\n",
              "Q    q\n",
              "R    r\n",
              "S    s\n",
              "T    t\n",
              "dtype: object"
            ]
          },
          "metadata": {},
          "execution_count": 28
        }
      ]
    },
    {
      "cell_type": "code",
      "source": [
        "new_alphabet.iloc[[1,7,16]]"
      ],
      "metadata": {
        "colab": {
          "base_uri": "https://localhost:8080/"
        },
        "id": "NuLyniJVA31V",
        "outputId": "e2cc441a-4292-4ae4-85bc-1308cd187233"
      },
      "execution_count": null,
      "outputs": [
        {
          "output_type": "execute_result",
          "data": {
            "text/plain": [
              "B    b\n",
              "H    h\n",
              "Q    q\n",
              "dtype: object"
            ]
          },
          "metadata": {},
          "execution_count": 29
        }
      ]
    },
    {
      "cell_type": "markdown",
      "source": [
        "# .GET() METHOD"
      ],
      "metadata": {
        "id": "yy_bjfuSCK2f"
      }
    },
    {
      "cell_type": "markdown",
      "source": [
        "- This method has the .loc and .iloc capabilities and allows us to extract label based information as well as position information."
      ],
      "metadata": {
        "id": "HAkqm0tGCN4o"
      }
    },
    {
      "cell_type": "code",
      "source": [
        "new_alphabet.get('a')"
      ],
      "metadata": {
        "id": "ReSo3u_-Ct13"
      },
      "execution_count": null,
      "outputs": []
    },
    {
      "cell_type": "code",
      "source": [
        "new_alphabet.get('A')"
      ],
      "metadata": {
        "colab": {
          "base_uri": "https://localhost:8080/",
          "height": 36
        },
        "id": "pGffdV8oC0n9",
        "outputId": "64201e48-0b4f-4ff4-ecf8-cc23c878c63a"
      },
      "execution_count": null,
      "outputs": [
        {
          "output_type": "execute_result",
          "data": {
            "text/plain": [
              "'a'"
            ],
            "application/vnd.google.colaboratory.intrinsic+json": {
              "type": "string"
            }
          },
          "metadata": {},
          "execution_count": 34
        }
      ]
    },
    {
      "cell_type": "code",
      "source": [
        "new_alphabet.get('S')"
      ],
      "metadata": {
        "colab": {
          "base_uri": "https://localhost:8080/",
          "height": 36
        },
        "id": "T-G7sbnWC5EE",
        "outputId": "afdf5996-baf5-474f-b88d-c7b7ee66a4c2"
      },
      "execution_count": null,
      "outputs": [
        {
          "output_type": "execute_result",
          "data": {
            "text/plain": [
              "'s'"
            ],
            "application/vnd.google.colaboratory.intrinsic+json": {
              "type": "string"
            }
          },
          "metadata": {},
          "execution_count": 33
        }
      ]
    },
    {
      "cell_type": "markdown",
      "source": [
        "# RECAP"
      ],
      "metadata": {
        "id": "BEqf74xKDTsI"
      }
    },
    {
      "cell_type": "markdown",
      "source": [
        "- [] slices, callables, boolean masks\n",
        "- .loc[] slices, callables, boolean masks\n",
        "- dot access no slice or boolean mask support\n",
        "- .get() no slice support, provides default, forgiving"
      ],
      "metadata": {
        "id": "KBqy03DCDWOW"
      }
    }
  ]
}